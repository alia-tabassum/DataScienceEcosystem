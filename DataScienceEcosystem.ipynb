{
  "metadata": {
    "kernelspec": {
      "name": "python",
      "display_name": "Python (Pyodide)",
      "language": "python"
    },
    "language_info": {
      "codemirror_mode": {
        "name": "python",
        "version": 3
      },
      "file_extension": ".py",
      "mimetype": "text/x-python",
      "name": "python",
      "nbconvert_exporter": "python",
      "pygments_lexer": "ipython3",
      "version": "3.8"
    }
  },
  "nbformat_minor": 4,
  "nbformat": 4,
  "cells": [
    {
      "cell_type": "markdown",
      "source": "# Data Science Tools and Ecosystem",
      "metadata": {}
    },
    {
      "cell_type": "markdown",
      "source": "In this notebook, Data Science Tools and Ecosystem are summarized.",
      "metadata": {}
    },
    {
      "cell_type": "markdown",
      "source": "**Objectives:**\n\n* **Create a markdown cell to list data science languages**\n* **Create a markdown cell to list data science libraries**\n* **Create a markdown cell introducing arithmetic expression examples**\n* **Create a code cell to multiply and add numbers.**\n* **Create a code cell to convert minutes to hours.** ",
      "metadata": {}
    },
    {
      "cell_type": "markdown",
      "source": "## Exercise 4 - Create a markdown cell to list data science languages\nordered list\n1. julia\n2. R\n3. Python",
      "metadata": {}
    },
    {
      "cell_type": "markdown",
      "source": "# Exercise 5 - Create a markdown cell to list data science libraries\n## Some of the commonly used libraries used by Data Scientists include:\n\n1. scipy\n2. Keras\n3. Matplotlib\n4. Pandas\n5. NumPy\n6. tensorflow\n7. plotly",
      "metadata": {}
    },
    {
      "cell_type": "markdown",
      "source": "# Exercise 6 - Create a markdown cell with a table of Data Science tools\n\n|Data Science Tools|\n|-------------------|\n|JupyterLab|\n|RStudio IDE|\n|Watson Studio|",
      "metadata": {}
    },
    {
      "cell_type": "markdown",
      "source": "# Exercise 7 - Create a markdown cell introducing arithmetic expression examples\n### Below are a few examples of evaluating arithmetic expressions in Python\n",
      "metadata": {}
    },
    {
      "cell_type": "code",
      "source": "5+8\n",
      "metadata": {
        "trusted": true
      },
      "outputs": [],
      "execution_count": null
    },
    {
      "cell_type": "code",
      "source": "6-2\n",
      "metadata": {
        "trusted": true
      },
      "outputs": [],
      "execution_count": null
    },
    {
      "cell_type": "code",
      "source": "18/3",
      "metadata": {
        "trusted": true
      },
      "outputs": [],
      "execution_count": null
    },
    {
      "cell_type": "markdown",
      "source": "# Exercise 8 - Create a code cell to multiply and add numbers\n",
      "metadata": {}
    },
    {
      "cell_type": "code",
      "source": "\"' This a simple arithmetic expression to mutiply then add integers'\"\n\n(3*4)+5",
      "metadata": {
        "trusted": true
      },
      "outputs": [],
      "execution_count": null
    },
    {
      "cell_type": "markdown",
      "source": "# Exercise 9 - Create a code cell to convert minutes to hours",
      "metadata": {}
    },
    {
      "cell_type": "code",
      "source": "\"'  This will convert 200 minutes to hours by diving by 60'\"\n\ndef convert_minutes_to_hours(minutes):\n    return minutes / 60\n    \nminutes = 200\nhours = convert_minutes_to_hours(minutes)\nprint(f\"{minutes} minutes is equal to {hours} hours\")",
      "metadata": {
        "trusted": true
      },
      "outputs": [
        {
          "name": "stdout",
          "text": "200 minutes is equal to 3.3333333333333335 hours\n",
          "output_type": "stream"
        }
      ],
      "execution_count": 2
    },
    {
      "cell_type": "markdown",
      "source": "## Author\nAlia Tabassum",
      "metadata": {}
    },
    {
      "cell_type": "code",
      "source": "",
      "metadata": {
        "trusted": true
      },
      "outputs": [],
      "execution_count": null
    }
  ]
}